{
 "cells": [
  {
   "cell_type": "markdown",
   "id": "f1a3c0d6",
   "metadata": {},
   "source": [
    "## Bike Rental Linear Regression Model\n",
    "\n",
    "\n",
    "Here I ananlyze a dataset for bike sharing within a population and the profits associated with each sample of population. The first column of the dataset is the Population and the second column is the corresponding Profits.\n",
    "\n",
    "The dataset was sourced from Kaggle and the link is as follows - \n",
    "https://www.kaggle.com/animeshnareda/bike-sharing-dataset-for-linear-regression"
   ]
  },
  {
   "cell_type": "code",
   "execution_count": 8,
   "id": "4690b49f",
   "metadata": {},
   "outputs": [],
   "source": [
    "import numpy as np\n",
    "import pandas as pd\n",
    "\n",
    "data = pd.read_csv('bike_sharing_data.txt')\n",
    "df = pd.DataFrame(data)\n",
    "#df.set_axis(['sweetness','pectin'], axis = 1, inplace=True)\n",
    "\n",
    "mean = df.mean()\n",
    "m_s = mean[0]\n",
    "m_p = mean[1]\n",
    "\n",
    "variance = df.var()\n",
    "var_s = variance[0]\n",
    "var_p = variance[1]\n",
    "\n",
    "std = df.std()\n",
    "std_s = std[0]\n",
    "std_p = std[1]\n",
    "\n",
    "covariance = df.cov()\n",
    "\n",
    "corr_coeff = df.corr(method='pearson')\n",
    "\n",
    "r_sq = corr_coeff**2"
   ]
  },
  {
   "cell_type": "markdown",
   "id": "d6c85f8b",
   "metadata": {},
   "source": [
    "The Sample Statistics are calculated as below:"
   ]
  },
  {
   "cell_type": "code",
   "execution_count": 9,
   "id": "c09dc55b",
   "metadata": {},
   "outputs": [
    {
     "data": {
      "text/html": [
       "<div>\n",
       "<style scoped>\n",
       "    .dataframe tbody tr th:only-of-type {\n",
       "        vertical-align: middle;\n",
       "    }\n",
       "\n",
       "    .dataframe tbody tr th {\n",
       "        vertical-align: top;\n",
       "    }\n",
       "\n",
       "    .dataframe thead th {\n",
       "        text-align: right;\n",
       "    }\n",
       "</style>\n",
       "<table border=\"1\" class=\"dataframe\">\n",
       "  <thead>\n",
       "    <tr style=\"text-align: right;\">\n",
       "      <th></th>\n",
       "      <th>category</th>\n",
       "      <th>Mean</th>\n",
       "      <th>Varaiance</th>\n",
       "      <th>Standard Deviation</th>\n",
       "    </tr>\n",
       "  </thead>\n",
       "  <tbody>\n",
       "    <tr>\n",
       "      <th>0</th>\n",
       "      <td>Population</td>\n",
       "      <td>8.159800</td>\n",
       "      <td>14.975999</td>\n",
       "      <td>3.869884</td>\n",
       "    </tr>\n",
       "    <tr>\n",
       "      <th>1</th>\n",
       "      <td>Profit</td>\n",
       "      <td>5.839135</td>\n",
       "      <td>30.362990</td>\n",
       "      <td>5.510262</td>\n",
       "    </tr>\n",
       "  </tbody>\n",
       "</table>\n",
       "</div>"
      ],
      "text/plain": [
       "     category      Mean  Varaiance  Standard Deviation\n",
       "0  Population  8.159800  14.975999            3.869884\n",
       "1      Profit  5.839135  30.362990            5.510262"
      ]
     },
     "execution_count": 9,
     "metadata": {},
     "output_type": "execute_result"
    }
   ],
   "source": [
    "stats_data = [['Population', m_s, var_s, std_s], ['Profit', m_p, var_p, std_p]]\n",
    "stats_df = pd.DataFrame(stats_data, columns = ['category','Mean', 'Varaiance', 'Standard Deviation'])\n",
    "stats_df"
   ]
  },
  {
   "cell_type": "code",
   "execution_count": 10,
   "id": "125833ce",
   "metadata": {},
   "outputs": [
    {
     "data": {
      "text/html": [
       "<div>\n",
       "<style scoped>\n",
       "    .dataframe tbody tr th:only-of-type {\n",
       "        vertical-align: middle;\n",
       "    }\n",
       "\n",
       "    .dataframe tbody tr th {\n",
       "        vertical-align: top;\n",
       "    }\n",
       "\n",
       "    .dataframe thead th {\n",
       "        text-align: right;\n",
       "    }\n",
       "</style>\n",
       "<table border=\"1\" class=\"dataframe\">\n",
       "  <thead>\n",
       "    <tr style=\"text-align: right;\">\n",
       "      <th></th>\n",
       "      <th>Population</th>\n",
       "      <th>Profit</th>\n",
       "    </tr>\n",
       "  </thead>\n",
       "  <tbody>\n",
       "    <tr>\n",
       "      <th>Population</th>\n",
       "      <td>14.975999</td>\n",
       "      <td>17.86687</td>\n",
       "    </tr>\n",
       "    <tr>\n",
       "      <th>Profit</th>\n",
       "      <td>17.866870</td>\n",
       "      <td>30.36299</td>\n",
       "    </tr>\n",
       "  </tbody>\n",
       "</table>\n",
       "</div>"
      ],
      "text/plain": [
       "            Population    Profit\n",
       "Population   14.975999  17.86687\n",
       "Profit       17.866870  30.36299"
      ]
     },
     "execution_count": 10,
     "metadata": {},
     "output_type": "execute_result"
    }
   ],
   "source": [
    "covariance"
   ]
  },
  {
   "cell_type": "code",
   "execution_count": 6,
   "id": "dd8884da",
   "metadata": {},
   "outputs": [
    {
     "data": {
      "text/html": [
       "<div>\n",
       "<style scoped>\n",
       "    .dataframe tbody tr th:only-of-type {\n",
       "        vertical-align: middle;\n",
       "    }\n",
       "\n",
       "    .dataframe tbody tr th {\n",
       "        vertical-align: top;\n",
       "    }\n",
       "\n",
       "    .dataframe thead th {\n",
       "        text-align: right;\n",
       "    }\n",
       "</style>\n",
       "<table border=\"1\" class=\"dataframe\">\n",
       "  <thead>\n",
       "    <tr style=\"text-align: right;\">\n",
       "      <th></th>\n",
       "      <th>Population</th>\n",
       "      <th>Profit</th>\n",
       "    </tr>\n",
       "  </thead>\n",
       "  <tbody>\n",
       "    <tr>\n",
       "      <th>Population</th>\n",
       "      <td>1.000000</td>\n",
       "      <td>0.837873</td>\n",
       "    </tr>\n",
       "    <tr>\n",
       "      <th>Profit</th>\n",
       "      <td>0.837873</td>\n",
       "      <td>1.000000</td>\n",
       "    </tr>\n",
       "  </tbody>\n",
       "</table>\n",
       "</div>"
      ],
      "text/plain": [
       "            Population    Profit\n",
       "Population    1.000000  0.837873\n",
       "Profit        0.837873  1.000000"
      ]
     },
     "execution_count": 6,
     "metadata": {},
     "output_type": "execute_result"
    }
   ],
   "source": [
    "corr_coeff"
   ]
  },
  {
   "cell_type": "code",
   "execution_count": 11,
   "id": "8bee5e20",
   "metadata": {},
   "outputs": [
    {
     "data": {
      "text/html": [
       "<div>\n",
       "<style scoped>\n",
       "    .dataframe tbody tr th:only-of-type {\n",
       "        vertical-align: middle;\n",
       "    }\n",
       "\n",
       "    .dataframe tbody tr th {\n",
       "        vertical-align: top;\n",
       "    }\n",
       "\n",
       "    .dataframe thead th {\n",
       "        text-align: right;\n",
       "    }\n",
       "</style>\n",
       "<table border=\"1\" class=\"dataframe\">\n",
       "  <thead>\n",
       "    <tr style=\"text-align: right;\">\n",
       "      <th></th>\n",
       "      <th>Population</th>\n",
       "      <th>Profit</th>\n",
       "    </tr>\n",
       "  </thead>\n",
       "  <tbody>\n",
       "    <tr>\n",
       "      <th>Population</th>\n",
       "      <td>1.000000</td>\n",
       "      <td>0.702032</td>\n",
       "    </tr>\n",
       "    <tr>\n",
       "      <th>Profit</th>\n",
       "      <td>0.702032</td>\n",
       "      <td>1.000000</td>\n",
       "    </tr>\n",
       "  </tbody>\n",
       "</table>\n",
       "</div>"
      ],
      "text/plain": [
       "            Population    Profit\n",
       "Population    1.000000  0.702032\n",
       "Profit        0.702032  1.000000"
      ]
     },
     "execution_count": 11,
     "metadata": {},
     "output_type": "execute_result"
    }
   ],
   "source": [
    "r_sq"
   ]
  },
  {
   "cell_type": "markdown",
   "id": "4967234c",
   "metadata": {},
   "source": [
    "Running Linear Regression to find the best fit line"
   ]
  },
  {
   "cell_type": "code",
   "execution_count": 12,
   "id": "1de75a97",
   "metadata": {},
   "outputs": [
    {
     "name": "stdout",
     "output_type": "stream",
     "text": [
      "r2-score =  0.7020315537841397\n",
      "a =  1.193033644189594\n",
      "b =  -3.8957808783118537\n"
     ]
    }
   ],
   "source": [
    "from sklearn.linear_model import LinearRegression\n",
    "X = df['Population'].to_numpy()\n",
    "Y = df['Profit'].to_numpy()\n",
    "X = X.reshape(-1,1)\n",
    "Y = Y.reshape(-1,1)\n",
    "\n",
    "reg = LinearRegression().fit(X, Y)\n",
    "Y_pred = reg.predict(X)\n",
    "a = reg.coef_\n",
    "b = reg.intercept_\n",
    "\n",
    "print('r2-score = ',reg.score(X,Y))\n",
    "print('a = ',a[0,0])\n",
    "print('b = ',b[0])"
   ]
  },
  {
   "cell_type": "markdown",
   "id": "d94da0e3",
   "metadata": {},
   "source": [
    "Linear Regression Equation is: "
   ]
  },
  {
   "cell_type": "code",
   "execution_count": 13,
   "id": "e7a1f2c8",
   "metadata": {},
   "outputs": [
    {
     "name": "stdout",
     "output_type": "stream",
     "text": [
      "Profit = 1.193034(Population) + -3.895781\n"
     ]
    }
   ],
   "source": [
    "print('Profit = %f(Population) + %f' % (a[0,0], b[0]))"
   ]
  },
  {
   "cell_type": "markdown",
   "id": "435c183c",
   "metadata": {},
   "source": [
    "Plotting the scatter plot with Sweetness on the Y-axis and Pectin content on the X below:"
   ]
  },
  {
   "cell_type": "code",
   "execution_count": 15,
   "id": "290b1a65",
   "metadata": {},
   "outputs": [
    {
     "data": {
      "text/plain": [
       "Text(0, 0.5, 'Profit (in million)')"
      ]
     },
     "execution_count": 15,
     "metadata": {},
     "output_type": "execute_result"
    },
    {
     "data": {
      "image/png": "[encoded data removed]",
      "text/plain": [
       "<Figure size 432x288 with 1 Axes>"
      ]
     },
     "metadata": {
      "needs_background": "light"
     },
     "output_type": "display_data"
    }
   ],
   "source": [
    "import matplotlib.pyplot as plt\n",
    "plt.scatter(X, Y, color='red')\n",
    "plt.plot(X,Y_pred)\n",
    "plt.xlabel('Population (in million)')\n",
    "plt.ylabel('Profit (in million)')"
   ]
  },
  {
   "cell_type": "code",
   "execution_count": null,
   "id": "1c27b91d",
   "metadata": {},
   "outputs": [],
   "source": []
  }
 ],
 "metadata": {
  "kernelspec": {
   "display_name": "Python 3 (ipykernel)",
   "language": "python",
   "name": "python3"
  },
  "language_info": {
   "codemirror_mode": {
    "name": "ipython",
    "version": 3
   },
   "file_extension": ".py",
   "mimetype": "text/x-python",
   "name": "python",
   "nbconvert_exporter": "python",
   "pygments_lexer": "ipython3",
   "version": "3.9.6"
  }
 },
 "nbformat": 4,
 "nbformat_minor": 5
}
